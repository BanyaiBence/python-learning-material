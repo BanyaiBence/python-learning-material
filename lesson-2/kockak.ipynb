{
 "cells": [
  {
   "cell_type": "markdown",
   "metadata": {},
   "source": [
    "## Most készítsük el a játékot"
   ]
  },
  {
   "cell_type": "markdown",
   "metadata": {},
   "source": [
    "### Írjunk egy függvényt amivel dobhatunk a kockával"
   ]
  },
  {
   "cell_type": "code",
   "execution_count": null,
   "metadata": {},
   "outputs": [],
   "source": [
    "import random\n",
    "\n",
    "def dob(oldal_szam=6):\n",
    "    roll = random.randint(1, oldal_szam)\n",
    "\n",
    "    return roll"
   ]
  },
  {
   "cell_type": "markdown",
   "metadata": {},
   "source": [
    "### Írjunk egy függvényt amivel beolvashatjuk a játékosok számát"
   ]
  },
  {
   "cell_type": "code",
   "execution_count": null,
   "metadata": {},
   "outputs": [],
   "source": [
    "def beolvas():\n",
    "    while True:\n",
    "        jatekosok = input(\"Add meg a játékosok számát (2 - 4): \")\n",
    "        if jatekosok.isdigit():\n",
    "            jatekosok = int(jatekosok)\n",
    "            if 2 <= jatekosok <= 4:\n",
    "                break\n",
    "            else:\n",
    "                print(\"2 - 4 játékos között kell lennie.\")\n",
    "        else:\n",
    "            print(\"Érvénytelen, próbáld újra.\")\n",
    "\n",
    "    return jatekosok"
   ]
  },
  {
   "cell_type": "markdown",
   "metadata": {},
   "source": [
    "### Most beolvassuk a játékosok számá és beállítjuk a maximum pontszámot, minden játékos kezdeti pontszáma 0"
   ]
  },
  {
   "cell_type": "code",
   "execution_count": null,
   "metadata": {},
   "outputs": [],
   "source": [
    "jatekosSzam = beolvas()\n",
    "max_pont = 50\n",
    "jatekos_pontok = [0 for _ in range(jatekosSzam)]"
   ]
  },
  {
   "cell_type": "markdown",
   "metadata": {},
   "source": [
    "### Most jön a játék fő ciklusa"
   ]
  },
  {
   "cell_type": "code",
   "execution_count": 5,
   "metadata": {},
   "outputs": [],
   "source": [
    "while max(jatekos_pontok) < max_pont:\n",
    "    # Most jön minden játékos köre\n",
    "    for jatekos_idx in range(jatekosSzam):\n",
    "        print(f\"{jatekos_idx}. játékos köre\")\n",
    "        print(f\"Jelenlegi pontszám: {jatekos_pontok[jatekos_idx]}\")\n",
    "        # A játékos dob, amíg 1-est nem dob vagy nem áll meg\n",
    "        pontszam = 0\n",
    "        while True:\n",
    "            dobna = input(\"Dobni szeretnél? (i/n): \")\n",
    "            if dobna == \"i\":\n",
    "                dobas = dob()\n",
    "                print(f\"A dobásod: {dobas}\")\n",
    "                if dobas == 1:\n",
    "                    print(\"1-est dobtál, elveszted az eddigi pontjaid.\")\n",
    "                    break\n",
    "                else:\n",
    "                    pontszam += dobas\n",
    "                    print(f\"Jelenlegi pontszám: {pontszam}\")\n",
    "            elif dobna == \"n\":\n",
    "                break\n",
    "            else:\n",
    "                print(\"Érvénytelen válasz, próbáld újra.\")\n",
    "        jatekos_pontok[jatekos_idx] += pontszam\n",
    "        print(f\"{jatekos_idx}. játékos pontszáma: {jatekos_pontok[jatekos_idx]}\")\n",
    "nyertes_pont = max(jatekos_pontok)\n",
    "nyertes_idx = jatekos_pontok.index(nyertes_pont)\n",
    "print(f\"A nyertes a(z) {nyertes_idx}. játékos {nyertes_pont} ponttal.\")"
   ]
  }
 ],
 "metadata": {
  "kernelspec": {
   "display_name": "Python 3",
   "language": "python",
   "name": "python3"
  },
  "language_info": {
   "codemirror_mode": {
    "name": "ipython",
    "version": 3
   },
   "file_extension": ".py",
   "mimetype": "text/x-python",
   "name": "python",
   "nbconvert_exporter": "python",
   "pygments_lexer": "ipython3",
   "version": "3.10.4"
  }
 },
 "nbformat": 4,
 "nbformat_minor": 2
}
